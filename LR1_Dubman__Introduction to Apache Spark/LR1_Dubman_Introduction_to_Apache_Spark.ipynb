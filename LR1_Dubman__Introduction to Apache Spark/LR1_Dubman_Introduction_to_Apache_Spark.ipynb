{
  "nbformat": 4,
  "nbformat_minor": 0,
  "metadata": {
    "colab": {
      "provenance": [],
      "authorship_tag": "ABX9TyP5vFqnZ52ZYL4tTuqsmBLF",
      "include_colab_link": true
    },
    "kernelspec": {
      "name": "python3",
      "display_name": "Python 3"
    },
    "language_info": {
      "name": "python"
    }
  },
  "cells": [
    {
      "cell_type": "markdown",
      "metadata": {
        "id": "view-in-github",
        "colab_type": "text"
      },
      "source": [
        "<a href=\"https://colab.research.google.com/github/Won20/Big-Data/blob/main/LR1_Dubman__Introduction%20to%20Apache%20Spark/LR1_Dubman_Introduction_to_Apache_Spark.ipynb\" target=\"_parent\"><img src=\"https://colab.research.google.com/assets/colab-badge.svg\" alt=\"Open In Colab\"/></a>"
      ]
    },
    {
      "cell_type": "markdown",
      "source": [
        "# 1) Установка PySpark"
      ],
      "metadata": {
        "id": "l-a9wmJJ5ze_"
      }
    },
    {
      "cell_type": "code",
      "execution_count": 1,
      "metadata": {
        "colab": {
          "base_uri": "https://localhost:8080/"
        },
        "id": "NBz3nJpt4C9v",
        "outputId": "3d5380ed-e6d0-448d-d358-99efab0a7dec"
      },
      "outputs": [
        {
          "output_type": "stream",
          "name": "stdout",
          "text": [
            "Collecting pyspark\n",
            "  Downloading pyspark-3.5.0.tar.gz (316.9 MB)\n",
            "\u001b[2K     \u001b[90m━━━━━━━━━━━━━━━━━━━━━━━━━━━━━━━━━━━━━━━━\u001b[0m \u001b[32m316.9/316.9 MB\u001b[0m \u001b[31m4.9 MB/s\u001b[0m eta \u001b[36m0:00:00\u001b[0m\n",
            "\u001b[?25h  Preparing metadata (setup.py) ... \u001b[?25l\u001b[?25hdone\n",
            "Requirement already satisfied: py4j==0.10.9.7 in /usr/local/lib/python3.10/dist-packages (from pyspark) (0.10.9.7)\n",
            "Building wheels for collected packages: pyspark\n",
            "  Building wheel for pyspark (setup.py) ... \u001b[?25l\u001b[?25hdone\n",
            "  Created wheel for pyspark: filename=pyspark-3.5.0-py2.py3-none-any.whl size=317425345 sha256=c18054741896062dcbd5311901665c15ea6a415483dbed5ce1eeb9bc73d50cce\n",
            "  Stored in directory: /root/.cache/pip/wheels/41/4e/10/c2cf2467f71c678cfc8a6b9ac9241e5e44a01940da8fbb17fc\n",
            "Successfully built pyspark\n",
            "Installing collected packages: pyspark\n",
            "Successfully installed pyspark-3.5.0\n"
          ]
        }
      ],
      "source": [
        "!pip install pyspark"
      ]
    },
    {
      "cell_type": "markdown",
      "source": [
        "# 2) Импорт необходимых библиотек и создание проекта"
      ],
      "metadata": {
        "id": "zy1ozj6X5zaV"
      }
    },
    {
      "cell_type": "code",
      "source": [
        "import pyspark\n",
        "from pyspark import SparkContext, SparkConf"
      ],
      "metadata": {
        "id": "XEr3-A6r4K3G"
      },
      "execution_count": 2,
      "outputs": []
    },
    {
      "cell_type": "code",
      "source": [
        "from typing import NamedTuple\n",
        "from datetime import datetime\n",
        "from functools import reduce"
      ],
      "metadata": {
        "id": "GMcf9yiM8mxH"
      },
      "execution_count": 3,
      "outputs": []
    },
    {
      "cell_type": "code",
      "source": [
        "from math import *"
      ],
      "metadata": {
        "id": "mep0MGFP8ohA"
      },
      "execution_count": 4,
      "outputs": []
    },
    {
      "cell_type": "code",
      "source": [
        "#SparkContext-Основная точка входа для функциональности Spark. SparkContext представляет подключение к кластеру Spark\n",
        "##и может использоваться для создания переменных RDD и широковещательной рассылки в этом кластере.\n",
        "##когда вы создаете новый SparkContext, необходимо указать как минимум имя мастера и приложения либо через именованные параметры здесь, либо через conf.\n",
        "#SparkConf - для конфигурации приложения Spark. Используется для установки различных параметров Spark в виде пар ключ-значение.\n",
        "#setAppName - установка имени приложения\n",
        "#setMaster-установка главного URL-адреса для подключения\n",
        "sc = SparkContext(conf=SparkConf().setAppName(\"L1\").setMaster(\"local[*]\"))"
      ],
      "metadata": {
        "id": "4LsfL2mt4P9r"
      },
      "execution_count": 5,
      "outputs": []
    },
    {
      "cell_type": "code",
      "source": [
        "sc"
      ],
      "metadata": {
        "colab": {
          "base_uri": "https://localhost:8080/",
          "height": 196
        },
        "id": "pl2pdVRk4QDV",
        "outputId": "8042c2fa-28ff-4361-9053-d6c8508caf25"
      },
      "execution_count": 6,
      "outputs": [
        {
          "output_type": "execute_result",
          "data": {
            "text/plain": [
              "<SparkContext master=local[*] appName=L1>"
            ],
            "text/html": [
              "\n",
              "        <div>\n",
              "            <p><b>SparkContext</b></p>\n",
              "\n",
              "            <p><a href=\"http://54ec0796ebb1:4040\">Spark UI</a></p>\n",
              "\n",
              "            <dl>\n",
              "              <dt>Version</dt>\n",
              "                <dd><code>v3.5.0</code></dd>\n",
              "              <dt>Master</dt>\n",
              "                <dd><code>local[*]</code></dd>\n",
              "              <dt>AppName</dt>\n",
              "                <dd><code>L1</code></dd>\n",
              "            </dl>\n",
              "        </div>\n",
              "        "
            ]
          },
          "metadata": {},
          "execution_count": 6
        }
      ]
    },
    {
      "cell_type": "markdown",
      "source": [
        "# 3) Считывание данных"
      ],
      "metadata": {
        "id": "05rPc7dg8_LA"
      }
    },
    {
      "cell_type": "code",
      "source": [
        "data_trip = sc.textFile(\"/content/data/trips.csv\") #считывает текстовый файл из HDFS, локальной файловой системы (доступной на всех узлах) или любого URI файловой системы,\n",
        "# поддерживаемой Hadoop, и везвращает его как RDD строк. Текстовые файлы должны быть в кодировке UTF-8.\n",
        "data_station = sc.textFile(\"/content/data/stations.csv\") #то есть это RDD"
      ],
      "metadata": {
        "id": "EfEbCA7Z4QHT"
      },
      "execution_count": 7,
      "outputs": []
    },
    {
      "cell_type": "markdown",
      "source": [
        "# 4) Предобработка данных"
      ],
      "metadata": {
        "id": "ZooMpU9b9PI0"
      }
    },
    {
      "cell_type": "code",
      "source": [
        "trip_header=data_trip.first()#возвращает первый элемент в этом RDD.\n",
        "station_header=data_station.first()"
      ],
      "metadata": {
        "id": "jCjN79nY4QKr"
      },
      "execution_count": 8,
      "outputs": []
    },
    {
      "cell_type": "code",
      "source": [
        "#filter- возвращает новый RDD, содержащий только элементы, удовлетворяющие предикату (не равен первому элементу).\n",
        "#map- возвращает новый RDD, применив функцию к каждому элементу этого RDD.\n",
        "trips=data_trip.filter(lambda x: x != trip_header).map(lambda x: x.split(\",\"))\n",
        "stations=data_station.filter(lambda x: x != station_header).map(lambda x: x.split(\",\"))"
      ],
      "metadata": {
        "id": "J_w8o6Aa4XfT"
      },
      "execution_count": 9,
      "outputs": []
    },
    {
      "cell_type": "code",
      "source": [
        "trips.take(3)\n",
        "#возвращает первые 3 элементa. Он работает путем первого сканирования одного раздела и использования результатов\n",
        "#этого раздела для оценки количества дополнительных разделов, необходимых для удовлетворения ограничения. (list)"
      ],
      "metadata": {
        "colab": {
          "base_uri": "https://localhost:8080/"
        },
        "id": "Op1RkpTz4XiL",
        "outputId": "62929708-e803-4c7d-c8fe-52b6fb2aabfc"
      },
      "execution_count": 10,
      "outputs": [
        {
          "output_type": "execute_result",
          "data": {
            "text/plain": [
              "[['4576',\n",
              "  '63',\n",
              "  '',\n",
              "  'South Van Ness at Market',\n",
              "  '66',\n",
              "  '8/29/2013 14:14',\n",
              "  'South Van Ness at Market',\n",
              "  '66',\n",
              "  '520',\n",
              "  'Subscriber',\n",
              "  '94127'],\n",
              " ['4607',\n",
              "  '',\n",
              "  '8/29/2013 14:42',\n",
              "  'San Jose City Hall',\n",
              "  '10',\n",
              "  '8/29/2013 14:43',\n",
              "  'San Jose City Hall',\n",
              "  '10',\n",
              "  '661',\n",
              "  'Subscriber',\n",
              "  '95138'],\n",
              " ['4130',\n",
              "  '71',\n",
              "  '8/29/2013 10:16',\n",
              "  'Mountain View City Hall',\n",
              "  '27',\n",
              "  '8/29/2013 10:17',\n",
              "  'Mountain View City Hall',\n",
              "  '27',\n",
              "  '48',\n",
              "  'Subscriber',\n",
              "  '97214']]"
            ]
          },
          "metadata": {},
          "execution_count": 10
        }
      ]
    },
    {
      "cell_type": "code",
      "source": [
        "stations.take(3)"
      ],
      "metadata": {
        "colab": {
          "base_uri": "https://localhost:8080/"
        },
        "id": "CygA2o_j4k-7",
        "outputId": "7050e851-9db4-48ef-984b-683fd5b0fe97"
      },
      "execution_count": 11,
      "outputs": [
        {
          "output_type": "execute_result",
          "data": {
            "text/plain": [
              "[['2',\n",
              "  'San Jose Diridon Caltrain Station',\n",
              "  '37.329732',\n",
              "  '-121.90178200000001',\n",
              "  '27',\n",
              "  'San Jose',\n",
              "  '8/6/2013'],\n",
              " ['3',\n",
              "  'San Jose Civic Center',\n",
              "  '37.330698',\n",
              "  '-121.888979',\n",
              "  '15',\n",
              "  'San Jose',\n",
              "  '8/5/2013'],\n",
              " ['4',\n",
              "  'Santa Clara at Almaden',\n",
              "  '37.333988',\n",
              "  '-121.894902',\n",
              "  '11',\n",
              "  'San Jose',\n",
              "  '8/6/2013']]"
            ]
          },
          "metadata": {},
          "execution_count": 11
        }
      ]
    },
    {
      "cell_type": "code",
      "source": [
        "# Индексирование по нулевому элементу\n",
        "station_idx = stations.keyBy(lambda x: int(x[0]))\n",
        "#Создает кортежи элементов в этом RDD, применяя x."
      ],
      "metadata": {
        "id": "tYk63JWs4oHj"
      },
      "execution_count": 12,
      "outputs": []
    },
    {
      "cell_type": "code",
      "source": [
        "station_idx.take(3)"
      ],
      "metadata": {
        "colab": {
          "base_uri": "https://localhost:8080/"
        },
        "id": "wH8CorKh4oMU",
        "outputId": "113bd1b2-3c22-4c94-b769-99e14a3fa0f5"
      },
      "execution_count": 13,
      "outputs": [
        {
          "output_type": "execute_result",
          "data": {
            "text/plain": [
              "[(2,\n",
              "  ['2',\n",
              "   'San Jose Diridon Caltrain Station',\n",
              "   '37.329732',\n",
              "   '-121.90178200000001',\n",
              "   '27',\n",
              "   'San Jose',\n",
              "   '8/6/2013']),\n",
              " (3,\n",
              "  ['3',\n",
              "   'San Jose Civic Center',\n",
              "   '37.330698',\n",
              "   '-121.888979',\n",
              "   '15',\n",
              "   'San Jose',\n",
              "   '8/5/2013']),\n",
              " (4,\n",
              "  ['4',\n",
              "   'Santa Clara at Almaden',\n",
              "   '37.333988',\n",
              "   '-121.894902',\n",
              "   '11',\n",
              "   'San Jose',\n",
              "   '8/6/2013'])]"
            ]
          },
          "metadata": {},
          "execution_count": 13
        }
      ]
    },
    {
      "cell_type": "code",
      "source": [
        "# Индексирование по начальной и конечной станции\n",
        "trips_start = trips.keyBy(lambda x: x[3])\n",
        "trips_end = trips.keyBy(lambda x: x[6])"
      ],
      "metadata": {
        "id": "N8S98-y94oOD"
      },
      "execution_count": 14,
      "outputs": []
    },
    {
      "cell_type": "code",
      "source": [
        "trips_start.take(3), trips_end.take(3)"
      ],
      "metadata": {
        "colab": {
          "base_uri": "https://localhost:8080/"
        },
        "id": "WE8PooN54vl0",
        "outputId": "c4a1419b-0eb0-4dc9-a0f3-3a7578fe7ae4"
      },
      "execution_count": 15,
      "outputs": [
        {
          "output_type": "execute_result",
          "data": {
            "text/plain": [
              "([('South Van Ness at Market',\n",
              "   ['4576',\n",
              "    '63',\n",
              "    '',\n",
              "    'South Van Ness at Market',\n",
              "    '66',\n",
              "    '8/29/2013 14:14',\n",
              "    'South Van Ness at Market',\n",
              "    '66',\n",
              "    '520',\n",
              "    'Subscriber',\n",
              "    '94127']),\n",
              "  ('San Jose City Hall',\n",
              "   ['4607',\n",
              "    '',\n",
              "    '8/29/2013 14:42',\n",
              "    'San Jose City Hall',\n",
              "    '10',\n",
              "    '8/29/2013 14:43',\n",
              "    'San Jose City Hall',\n",
              "    '10',\n",
              "    '661',\n",
              "    'Subscriber',\n",
              "    '95138']),\n",
              "  ('Mountain View City Hall',\n",
              "   ['4130',\n",
              "    '71',\n",
              "    '8/29/2013 10:16',\n",
              "    'Mountain View City Hall',\n",
              "    '27',\n",
              "    '8/29/2013 10:17',\n",
              "    'Mountain View City Hall',\n",
              "    '27',\n",
              "    '48',\n",
              "    'Subscriber',\n",
              "    '97214'])],\n",
              " [('South Van Ness at Market',\n",
              "   ['4576',\n",
              "    '63',\n",
              "    '',\n",
              "    'South Van Ness at Market',\n",
              "    '66',\n",
              "    '8/29/2013 14:14',\n",
              "    'South Van Ness at Market',\n",
              "    '66',\n",
              "    '520',\n",
              "    'Subscriber',\n",
              "    '94127']),\n",
              "  ('San Jose City Hall',\n",
              "   ['4607',\n",
              "    '',\n",
              "    '8/29/2013 14:42',\n",
              "    'San Jose City Hall',\n",
              "    '10',\n",
              "    '8/29/2013 14:43',\n",
              "    'San Jose City Hall',\n",
              "    '10',\n",
              "    '661',\n",
              "    'Subscriber',\n",
              "    '95138']),\n",
              "  ('Mountain View City Hall',\n",
              "   ['4130',\n",
              "    '71',\n",
              "    '8/29/2013 10:16',\n",
              "    'Mountain View City Hall',\n",
              "    '27',\n",
              "    '8/29/2013 10:17',\n",
              "    'Mountain View City Hall',\n",
              "    '27',\n",
              "    '48',\n",
              "    'Subscriber',\n",
              "    '97214'])])"
            ]
          },
          "metadata": {},
          "execution_count": 15
        }
      ]
    },
    {
      "cell_type": "code",
      "source": [
        "# Объединение по ключу\n",
        "start_trips = station_idx.join(trips_start)\n",
        "end_trips = station_idx.join(trips_end)\n",
        "#join - возвращает RDD, содержащий все пары элементов с совпадающими ключами в self и other.\n",
        "#Каждая пара элементов будет возвращена как кортеж (k, (v1, v2)) где (k, v1) находится в себе, а (k, v2) — в другом.\n",
        "#Выполняет хеш-соединение по всему кластеру."
      ],
      "metadata": {
        "id": "fuA5eCix4vqG"
      },
      "execution_count": 16,
      "outputs": []
    },
    {
      "cell_type": "markdown",
      "source": [
        "# 5) Создание модели для Trip and Station"
      ],
      "metadata": {
        "id": "R58aEx2A9T4M"
      }
    },
    {
      "cell_type": "code",
      "source": [
        "def initStation(stations):\n",
        "    class Station(NamedTuple):\n",
        "        station_id: int #идентификатор станции\n",
        "        name: str # название станции\n",
        "        lat: float #широта стадиона\n",
        "        long: float # долгота стадиона\n",
        "        dockcount: int #\n",
        "        landmark: str # ориентир\n",
        "        installation: str #дата\n",
        "\n",
        "    for station in stations:\n",
        "        yield Station(\n",
        "            station_id = int(station[0]),\n",
        "            name = station[1],\n",
        "            lat = float(station[2]),\n",
        "            long = float(station[3]),\n",
        "            dockcount = int(station[4]),\n",
        "            landmark = station[5],\n",
        "            installation = datetime.strptime(station[6], '%m/%d/%Y') # создает соответствующий объект даты/времени из строки, соответствующей формату format=%m/%d/%Y\n",
        "        )\n",
        "\n",
        "def initTrip(trips):\n",
        "    class Trip(NamedTuple):\n",
        "        trip_id: int # идентификатор велосипеда\n",
        "        duration: int # длительность заезда\n",
        "        start_date: datetime # начальная дата\n",
        "        start_station_name: str # имя станции, с которой начался заезд\n",
        "        start_station_id: int # идентификатор станции, где стартовали\n",
        "        end_date: datetime # конечная дата (дата финиша)\n",
        "        end_station_name: str # имя станции, где финишировали\n",
        "        end_station_id: int # идентификатор станции, где финишировали\n",
        "        bike_id: int # идентификатор велосипеда\n",
        "        subscription_type: str # (Подписчик)\n",
        "        zip_code: str # идентификатор пользователя/участника\n",
        "\n",
        "    for trip in trips:\n",
        "        try:\n",
        "            yield Trip(\n",
        "             trip_id = int(trip[0]),\n",
        "             duration = int(trip[1]),\n",
        "             start_date = datetime.strptime(trip[2], '%m/%d/%Y %H:%M'),\n",
        "             start_station_name = trip[3],\n",
        "             start_station_id = int(trip[4]),\n",
        "             end_date = datetime.strptime(trip[5], '%m/%d/%Y %H:%M'),\n",
        "             end_station_name = trip[6],\n",
        "             end_station_id = trip[7],\n",
        "             bike_id = int(trip[8]),\n",
        "             subscription_type = trip[9],\n",
        "             zip_code = trip[10]\n",
        "            )\n",
        "        except:\n",
        "            pass"
      ],
      "metadata": {
        "id": "iZEByqD-6hfV"
      },
      "execution_count": 17,
      "outputs": []
    },
    {
      "cell_type": "code",
      "source": [
        "# Применяем модель данных для Stations\n",
        "stations_ = stations.mapPartitions(initStation)\n",
        "#возвращает новый RDD, применяя функцию к каждому разделу этого RDD."
      ],
      "metadata": {
        "id": "348cb-8P6hil"
      },
      "execution_count": 18,
      "outputs": []
    },
    {
      "cell_type": "code",
      "source": [
        "stations_.first() # возвращает первый элемент в этом RDD."
      ],
      "metadata": {
        "id": "PZml12Up6hlt",
        "colab": {
          "base_uri": "https://localhost:8080/"
        },
        "outputId": "85ba7db6-3724-4d84-be96-4bf342417834"
      },
      "execution_count": 19,
      "outputs": [
        {
          "output_type": "execute_result",
          "data": {
            "text/plain": [
              "Station(station_id=2, name='San Jose Diridon Caltrain Station', lat=37.329732, long=-121.90178200000001, dockcount=27, landmark='San Jose', installation=datetime.datetime(2013, 8, 6, 0, 0))"
            ]
          },
          "metadata": {},
          "execution_count": 19
        }
      ]
    },
    {
      "cell_type": "code",
      "source": [
        "# Применяем модель данных для Trip\n",
        "trips_= trips.mapPartitions(initTrip)\n",
        "#mapPartitions - возвращает новый RDD, применяя функцию к каждому разделу этого RDD."
      ],
      "metadata": {
        "id": "bdO2GTws6hou"
      },
      "execution_count": 20,
      "outputs": []
    },
    {
      "cell_type": "code",
      "source": [
        "trips_.first() # возвращает первый элемент в этом RDD."
      ],
      "metadata": {
        "id": "vUpPBaHr6hrw",
        "colab": {
          "base_uri": "https://localhost:8080/"
        },
        "outputId": "c2b73003-2b5c-4da0-da89-d7df7b0c00e1"
      },
      "execution_count": 21,
      "outputs": [
        {
          "output_type": "execute_result",
          "data": {
            "text/plain": [
              "Trip(trip_id=4130, duration=71, start_date=datetime.datetime(2013, 8, 29, 10, 16), start_station_name='Mountain View City Hall', start_station_id=27, end_date=datetime.datetime(2013, 8, 29, 10, 17), end_station_name='Mountain View City Hall', end_station_id='27', bike_id=48, subscription_type='Subscriber', zip_code='97214')"
            ]
          },
          "metadata": {},
          "execution_count": 21
        }
      ]
    },
    {
      "cell_type": "code",
      "source": [
        "trips_start = trips_.keyBy(lambda x: x.start_station_name) #Создает кортежи элементов в этом RDD, применяя x"
      ],
      "metadata": {
        "id": "LknzLaW06huY"
      },
      "execution_count": 23,
      "outputs": []
    },
    {
      "cell_type": "code",
      "source": [
        "# Расчет среднего времени для каждого парковочного места\n",
        "avg = trips_start.mapValues(lambda x: x.duration).groupByKey()\\\n",
        ".mapValues(lambda y: reduce(lambda a, b: (a+b), y)/len(y))\n",
        "#mapValues - передаёт каждое значение в паре ключ-значение RDD через map функцию, не меняя ключи; при этом также сохраняется исходное разделение RDD.\n",
        "#groupByKey - группирует значения для каждого ключа в RDD в одну последовательность.\n",
        "#reduce - кумулятивно применяет функцию к элементам итерируемой iterable последовательности, сводя её к единственному значению."
      ],
      "metadata": {
        "id": "x07dDKEs6hzO"
      },
      "execution_count": 24,
      "outputs": []
    },
    {
      "cell_type": "code",
      "source": [
        "avg.top(10, lambda x: x[1]) # Получение 10 верхних элементов из RDD; возвращает list, отсортированный в порядке убывания."
      ],
      "metadata": {
        "id": "72yKNJ8O6h0q",
        "colab": {
          "base_uri": "https://localhost:8080/"
        },
        "outputId": "63a5dc5c-ba07-42fc-a1b9-c882fdb92fe7"
      },
      "execution_count": 25,
      "outputs": [
        {
          "output_type": "execute_result",
          "data": {
            "text/plain": [
              "[('University and Emerson', 7090.239417989418),\n",
              " ('California Ave Caltrain Station', 4628.005847953216),\n",
              " ('Redwood City Public Library', 4579.234741784037),\n",
              " ('Park at Olive', 4438.1613333333335),\n",
              " ('San Jose Civic Center', 4208.016938519448),\n",
              " ('Rengstorff Avenue / California Street', 4174.082373782108),\n",
              " ('Redwood City Medical Center', 3959.491961414791),\n",
              " ('Palo Alto Caltrain Station', 3210.6489815253435),\n",
              " ('San Mateo County Center', 2716.7700348432054),\n",
              " ('Broadway at Main', 2481.2537313432836)]"
            ]
          },
          "metadata": {},
          "execution_count": 25
        }
      ]
    },
    {
      "cell_type": "code",
      "source": [
        "# Найдем первую поездку для каждой из стоянок\n",
        "first_trip = trips_start.reduceByKey(lambda x, y: x if x.start_date < y.start_date else y)\n",
        "#reduceByKey - объединяет значения для каждого ключа, используя ассоциативную и коммутативную функцию сокращения.\n",
        "#также будет выполнять слияние локально на каждом преобразователе перед отправкой результатов в редуктор, аналогично «объединителю» в MapReduce.\n",
        "#вывод будет разделен с помощью разделов numPartitions или уровня параллелизма по умолчанию. Разделитель по умолчанию — хеш-раздел."
      ],
      "metadata": {
        "id": "jHgq3C8d64gX"
      },
      "execution_count": 26,
      "outputs": []
    },
    {
      "cell_type": "code",
      "source": [
        "first_trip.collect() # вернёт list, содержащий все элементы в этом RDD."
      ],
      "metadata": {
        "id": "IuxNgmMD64jZ",
        "colab": {
          "base_uri": "https://localhost:8080/"
        },
        "outputId": "f57dbda4-c797-4c64-d571-53a0485ee2e8"
      },
      "execution_count": 27,
      "outputs": [
        {
          "output_type": "execute_result",
          "data": {
            "text/plain": [
              "[('South Van Ness at Market',\n",
              "  Trip(trip_id=4074, duration=1131, start_date=datetime.datetime(2013, 8, 29, 9, 24), start_station_name='South Van Ness at Market', start_station_id=66, end_date=datetime.datetime(2013, 8, 29, 9, 43), end_station_name='San Francisco Caltrain 2 (330 Townsend)', end_station_id='69', bike_id=317, subscription_type='Subscriber', zip_code='94115')),\n",
              " ('Santa Clara at Almaden',\n",
              "  Trip(trip_id=4500, duration=109, start_date=datetime.datetime(2013, 8, 29, 13, 25), start_station_name='Santa Clara at Almaden', start_station_id=4, end_date=datetime.datetime(2013, 8, 29, 13, 27), end_station_name='Adobe on Almaden', end_station_id='5', bike_id=679, subscription_type='Subscriber', zip_code='95112')),\n",
              " ('Clay at Battery',\n",
              "  Trip(trip_id=4283, duration=1712, start_date=datetime.datetime(2013, 8, 29, 11, 55), start_station_name='Clay at Battery', start_station_id=41, end_date=datetime.datetime(2013, 8, 29, 12, 23), end_station_name='Harry Bridges Plaza (Ferry Building)', end_station_id='50', bike_id=544, subscription_type='Subscriber', zip_code='94070')),\n",
              " ('Market at 10th',\n",
              "  Trip(trip_id=4206, duration=1066, start_date=datetime.datetime(2013, 8, 29, 11, 9), start_station_name='Market at 10th', start_station_id=67, end_date=datetime.datetime(2013, 8, 29, 11, 27), end_station_name='Steuart at Market', end_station_id='74', bike_id=632, subscription_type='Customer', zip_code='98034')),\n",
              " ('Powell Street BART',\n",
              "  Trip(trip_id=4225, duration=21612, start_date=datetime.datetime(2013, 8, 29, 11, 18), start_station_name='Powell Street BART', start_station_id=39, end_date=datetime.datetime(2013, 8, 29, 17, 18), end_station_name='Market at 10th', end_station_id='67', bike_id=464, subscription_type='Customer', zip_code='58553')),\n",
              " ('Japantown',\n",
              "  Trip(trip_id=4310, duration=537, start_date=datetime.datetime(2013, 8, 29, 12, 5), start_station_name='Japantown', start_station_id=9, end_date=datetime.datetime(2013, 8, 29, 12, 14), end_station_name='Japantown', end_station_id='9', bike_id=638, subscription_type='Subscriber', zip_code='95112')),\n",
              " ('2nd at Townsend',\n",
              "  Trip(trip_id=4276, duration=173, start_date=datetime.datetime(2013, 8, 29, 11, 45), start_station_name='2nd at Townsend', start_station_id=61, end_date=datetime.datetime(2013, 8, 29, 11, 48), end_station_name='2nd at South Park', end_station_id='64', bike_id=280, subscription_type='Customer', zip_code='95819')),\n",
              " ('Civic Center BART (7th at Market)',\n",
              "  Trip(trip_id=4378, duration=173, start_date=datetime.datetime(2013, 8, 29, 12, 27), start_station_name='Civic Center BART (7th at Market)', start_station_id=72, end_date=datetime.datetime(2013, 8, 29, 12, 30), end_station_name='Civic Center BART (7th at Market)', end_station_id='72', bike_id=374, subscription_type='Subscriber', zip_code='94110')),\n",
              " ('Commercial at Montgomery',\n",
              "  Trip(trip_id=4086, duration=178, start_date=datetime.datetime(2013, 8, 29, 9, 42), start_station_name='Commercial at Montgomery', start_station_id=45, end_date=datetime.datetime(2013, 8, 29, 9, 45), end_station_name='Commercial at Montgomery', end_station_id='45', bike_id=379, subscription_type='Subscriber', zip_code='94402')),\n",
              " ('Market at 4th',\n",
              "  Trip(trip_id=4134, duration=574, start_date=datetime.datetime(2013, 8, 29, 10, 19), start_station_name='Market at 4th', start_station_id=76, end_date=datetime.datetime(2013, 8, 29, 10, 29), end_station_name='2nd at South Park', end_station_id='64', bike_id=426, subscription_type='Customer', zip_code='94117')),\n",
              " ('Washington at Kearney',\n",
              "  Trip(trip_id=4400, duration=189, start_date=datetime.datetime(2013, 8, 29, 12, 39), start_station_name='Washington at Kearney', start_station_id=46, end_date=datetime.datetime(2013, 8, 29, 12, 42), end_station_name='Clay at Battery', end_station_id='41', bike_id=619, subscription_type='Subscriber', zip_code='94609')),\n",
              " ('Powell at Post (Union Square)',\n",
              "  Trip(trip_id=4431, duration=980, start_date=datetime.datetime(2013, 8, 29, 12, 54), start_station_name='Powell at Post (Union Square)', start_station_id=71, end_date=datetime.datetime(2013, 8, 29, 13, 10), end_station_name='Post at Kearney', end_station_id='47', bike_id=507, subscription_type='Subscriber', zip_code='94109')),\n",
              " ('San Francisco Caltrain 2 (330 Townsend)',\n",
              "  Trip(trip_id=4133, duration=1965, start_date=datetime.datetime(2013, 8, 29, 10, 17), start_station_name='San Francisco Caltrain 2 (330 Townsend)', start_station_id=69, end_date=datetime.datetime(2013, 8, 29, 10, 50), end_station_name='Powell Street BART', end_station_id='39', bike_id=316, subscription_type='Customer', zip_code='')),\n",
              " ('San Francisco Caltrain (Townsend at 4th)',\n",
              "  Trip(trip_id=4177, duration=278, start_date=datetime.datetime(2013, 8, 29, 11, 3), start_station_name='San Francisco Caltrain (Townsend at 4th)', start_station_id=70, end_date=datetime.datetime(2013, 8, 29, 11, 8), end_station_name='2nd at South Park', end_station_id='64', bike_id=371, subscription_type='Subscriber', zip_code='94117')),\n",
              " ('Harry Bridges Plaza (Ferry Building)',\n",
              "  Trip(trip_id=4278, duration=353, start_date=datetime.datetime(2013, 8, 29, 11, 52), start_station_name='Harry Bridges Plaza (Ferry Building)', start_station_id=50, end_date=datetime.datetime(2013, 8, 29, 11, 58), end_station_name='Commercial at Montgomery', end_station_id='45', bike_id=596, subscription_type='Subscriber', zip_code='94123')),\n",
              " ('Embarcadero at Sansome',\n",
              "  Trip(trip_id=4388, duration=3582, start_date=datetime.datetime(2013, 8, 29, 12, 33), start_station_name='Embarcadero at Sansome', start_station_id=60, end_date=datetime.datetime(2013, 8, 29, 13, 33), end_station_name='San Francisco City Hall', end_station_id='58', bike_id=462, subscription_type='Customer', zip_code='21144')),\n",
              " ('Embarcadero at Bryant',\n",
              "  Trip(trip_id=4558, duration=298, start_date=datetime.datetime(2013, 8, 29, 13, 57), start_station_name='Embarcadero at Bryant', start_station_id=54, end_date=datetime.datetime(2013, 8, 29, 14, 2), end_station_name='Harry Bridges Plaza (Ferry Building)', end_station_id='50', bike_id=275, subscription_type='Subscriber', zip_code='94109')),\n",
              " ('5th at Howard',\n",
              "  Trip(trip_id=4408, duration=385, start_date=datetime.datetime(2013, 8, 29, 12, 41), start_station_name='5th at Howard', start_station_id=57, end_date=datetime.datetime(2013, 8, 29, 12, 48), end_station_name='Powell at Post (Union Square)', end_station_id='71', bike_id=538, subscription_type='Customer', zip_code='37206')),\n",
              " ('Embarcadero at Folsom',\n",
              "  Trip(trip_id=4346, duration=724, start_date=datetime.datetime(2013, 8, 29, 12, 14), start_station_name='Embarcadero at Folsom', start_station_id=51, end_date=datetime.datetime(2013, 8, 29, 12, 26), end_station_name='San Francisco Caltrain (Townsend at 4th)', end_station_id='70', bike_id=267, subscription_type='Subscriber', zip_code='94127')),\n",
              " ('San Antonio Caltrain Station',\n",
              "  Trip(trip_id=4601, duration=953, start_date=datetime.datetime(2013, 8, 29, 14, 33), start_station_name='San Antonio Caltrain Station', start_station_id=29, end_date=datetime.datetime(2013, 8, 29, 14, 49), end_station_name='Mountain View Caltrain Station', end_station_id='28', bike_id=165, subscription_type='Subscriber', zip_code='94301')),\n",
              " ('Rengstorff Avenue / California Street',\n",
              "  Trip(trip_id=5007, duration=1016, start_date=datetime.datetime(2013, 8, 29, 20, 11), start_station_name='Rengstorff Avenue / California Street', start_station_id=33, end_date=datetime.datetime(2013, 8, 29, 20, 28), end_station_name='Rengstorff Avenue / California Street', end_station_id='33', bike_id=11, subscription_type='Customer', zip_code='94040')),\n",
              " ('Arena Green / SAP Center',\n",
              "  Trip(trip_id=4365, duration=1094, start_date=datetime.datetime(2013, 8, 29, 12, 24), start_station_name='Arena Green / SAP Center', start_station_id=14, end_date=datetime.datetime(2013, 8, 29, 12, 42), end_station_name='Arena Green / SAP Center', end_station_id='14', bike_id=647, subscription_type='Subscriber', zip_code='95126')),\n",
              " ('SJSU 4th at San Carlos',\n",
              "  Trip(trip_id=4394, duration=1309, start_date=datetime.datetime(2013, 8, 29, 12, 34), start_station_name='SJSU 4th at San Carlos', start_station_id=12, end_date=datetime.datetime(2013, 8, 29, 12, 56), end_station_name='San Salvador at 1st', end_station_id='8', bike_id=46, subscription_type='Subscriber', zip_code='95112')),\n",
              " ('Franklin at Maple',\n",
              "  Trip(trip_id=4957, duration=1969, start_date=datetime.datetime(2013, 8, 29, 19, 17), start_station_name='Franklin at Maple', start_station_id=21, end_date=datetime.datetime(2013, 8, 29, 19, 50), end_station_name='Franklin at Maple', end_station_id='21', bike_id=159, subscription_type='Customer', zip_code='94063')),\n",
              " ('Broadway at Main',\n",
              "  Trip(trip_id=6483, duration=221, start_date=datetime.datetime(2013, 8, 31, 0, 23), start_station_name='Broadway at Main', start_station_id=25, end_date=datetime.datetime(2013, 8, 31, 0, 27), end_station_name='Franklin at Maple', end_station_id='21', bike_id=207, subscription_type='Subscriber', zip_code='94063')),\n",
              " ('Castro Street and El Camino Real',\n",
              "  Trip(trip_id=140848, duration=318, start_date=datetime.datetime(2014, 1, 2, 17, 19), start_station_name='Castro Street and El Camino Real', start_station_id=32, end_date=datetime.datetime(2014, 1, 2, 17, 24), end_station_name='Mountain View Caltrain Station', end_station_id='28', bike_id=134, subscription_type='Subscriber', zip_code='94040')),\n",
              " ('Mezes Park',\n",
              "  Trip(trip_id=192527, duration=530, start_date=datetime.datetime(2014, 2, 22, 9, 59), start_station_name='Mezes Park', start_station_id=83, end_date=datetime.datetime(2014, 2, 22, 10, 8), end_station_name='Redwood City Medical Center', end_station_id='26', bike_id=237, subscription_type='Customer', zip_code='94063')),\n",
              " ('Washington at Kearny',\n",
              "  Trip(trip_id=198785, duration=880, start_date=datetime.datetime(2014, 3, 1, 2, 51), start_station_name='Washington at Kearny', start_station_id=46, end_date=datetime.datetime(2014, 3, 1, 3, 5), end_station_name='Harry Bridges Plaza (Ferry Building)', end_station_id='50', bike_id=378, subscription_type='Customer', zip_code='94044')),\n",
              " ('Mountain View City Hall',\n",
              "  Trip(trip_id=4081, duration=218, start_date=datetime.datetime(2013, 8, 29, 9, 38), start_station_name='Mountain View City Hall', start_station_id=27, end_date=datetime.datetime(2013, 8, 29, 9, 41), end_station_name='Mountain View City Hall', end_station_id='27', bike_id=150, subscription_type='Subscriber', zip_code='97214')),\n",
              " ('Golden Gate at Polk',\n",
              "  Trip(trip_id=4572, duration=4331, start_date=datetime.datetime(2013, 8, 29, 14, 7), start_station_name='Golden Gate at Polk', start_station_id=59, end_date=datetime.datetime(2013, 8, 29, 15, 20), end_station_name='Post at Kearney', end_station_id='47', bike_id=373, subscription_type='Customer', zip_code='94109')),\n",
              " ('2nd at South Park',\n",
              "  Trip(trip_id=4069, duration=174, start_date=datetime.datetime(2013, 8, 29, 9, 8), start_station_name='2nd at South Park', start_station_id=64, end_date=datetime.datetime(2013, 8, 29, 9, 11), end_station_name='2nd at South Park', end_station_id='64', bike_id=288, subscription_type='Subscriber', zip_code='94114')),\n",
              " ('Redwood City Caltrain Station',\n",
              "  Trip(trip_id=4078, duration=3829, start_date=datetime.datetime(2013, 8, 29, 9, 31), start_station_name='Redwood City Caltrain Station', start_station_id=22, end_date=datetime.datetime(2013, 8, 29, 10, 34), end_station_name='Redwood City Caltrain Station', end_station_id='22', bike_id=228, subscription_type='Customer', zip_code='94062')),\n",
              " ('San Francisco City Hall',\n",
              "  Trip(trip_id=4265, duration=151, start_date=datetime.datetime(2013, 8, 29, 11, 40), start_station_name='San Francisco City Hall', start_station_id=58, end_date=datetime.datetime(2013, 8, 29, 11, 42), end_station_name='San Francisco City Hall', end_station_id='58', bike_id=520, subscription_type='Subscriber', zip_code='94110')),\n",
              " ('Redwood City Medical Center',\n",
              "  Trip(trip_id=4917, duration=169, start_date=datetime.datetime(2013, 8, 29, 18, 45), start_station_name='Redwood City Medical Center', start_station_id=26, end_date=datetime.datetime(2013, 8, 29, 18, 48), end_station_name='Broadway at Main', end_station_id='25', bike_id=229, subscription_type='Subscriber', zip_code='94041')),\n",
              " ('University and Emerson',\n",
              "  Trip(trip_id=4116, duration=1213, start_date=datetime.datetime(2013, 8, 29, 10, 11), start_station_name='University and Emerson', start_station_id=35, end_date=datetime.datetime(2013, 8, 29, 10, 32), end_station_name='California Ave Caltrain Station', end_station_id='36', bike_id=83, subscription_type='Subscriber', zip_code='95112')),\n",
              " ('Adobe on Almaden',\n",
              "  Trip(trip_id=4419, duration=556, start_date=datetime.datetime(2013, 8, 29, 12, 45), start_station_name='Adobe on Almaden', start_station_id=5, end_date=datetime.datetime(2013, 8, 29, 12, 55), end_station_name='San Jose Civic Center', end_station_id='3', bike_id=671, subscription_type='Subscriber', zip_code='94536')),\n",
              " ('MLK Library',\n",
              "  Trip(trip_id=4379, duration=610, start_date=datetime.datetime(2013, 8, 29, 12, 29), start_station_name='MLK Library', start_station_id=11, end_date=datetime.datetime(2013, 8, 29, 12, 39), end_station_name='MLK Library', end_station_id='11', bike_id=669, subscription_type='Subscriber', zip_code='95112')),\n",
              " ('Market at Sansome',\n",
              "  Trip(trip_id=4320, duration=520, start_date=datetime.datetime(2013, 8, 29, 12, 10), start_station_name='Market at Sansome', start_station_id=77, end_date=datetime.datetime(2013, 8, 29, 12, 19), end_station_name='Harry Bridges Plaza (Ferry Building)', end_station_id='50', bike_id=616, subscription_type='Subscriber', zip_code='94109')),\n",
              " ('Cowper at University',\n",
              "  Trip(trip_id=4298, duration=460, start_date=datetime.datetime(2013, 8, 29, 12, 2), start_station_name='Cowper at University', start_station_id=37, end_date=datetime.datetime(2013, 8, 29, 12, 10), end_station_name='University and Emerson', end_station_id='35', bike_id=9, subscription_type='Subscriber', zip_code='94025')),\n",
              " ('St James Park',\n",
              "  Trip(trip_id=4612, duration=376, start_date=datetime.datetime(2013, 8, 29, 14, 46), start_station_name='St James Park', start_station_id=13, end_date=datetime.datetime(2013, 8, 29, 14, 53), end_station_name='Japantown', end_station_id='9', bike_id=188, subscription_type='Subscriber', zip_code='95112')),\n",
              " ('San Jose Diridon Caltrain Station',\n",
              "  Trip(trip_id=4547, duration=1580, start_date=datetime.datetime(2013, 8, 29, 13, 52), start_station_name='San Jose Diridon Caltrain Station', start_station_id=2, end_date=datetime.datetime(2013, 8, 29, 14, 18), end_station_name='San Jose City Hall', end_station_id='10', bike_id=107, subscription_type='Customer', zip_code='94306')),\n",
              " ('California Ave Caltrain Station',\n",
              "  Trip(trip_id=4375, duration=880, start_date=datetime.datetime(2013, 8, 29, 12, 26), start_station_name='California Ave Caltrain Station', start_station_id=36, end_date=datetime.datetime(2013, 8, 29, 12, 41), end_station_name='University and Emerson', end_station_id='35', bike_id=161, subscription_type='Subscriber', zip_code='94040')),\n",
              " ('Park at Olive',\n",
              "  Trip(trip_id=5525, duration=422, start_date=datetime.datetime(2013, 8, 30, 12, 21), start_station_name='Park at Olive', start_station_id=38, end_date=datetime.datetime(2013, 8, 30, 12, 28), end_station_name='Park at Olive', end_station_id='38', bike_id=66, subscription_type='Customer', zip_code='94920')),\n",
              " ('San Antonio Shopping Center',\n",
              "  Trip(trip_id=141633, duration=1104, start_date=datetime.datetime(2014, 1, 3, 12, 21), start_station_name='San Antonio Shopping Center', start_station_id=31, end_date=datetime.datetime(2014, 1, 3, 12, 39), end_station_name='California Ave Caltrain Station', end_station_id='36', bike_id=64, subscription_type='Subscriber', zip_code='94301')),\n",
              " ('Ryland Park',\n",
              "  Trip(trip_id=243456, duration=330, start_date=datetime.datetime(2014, 4, 10, 9, 10), start_station_name='Ryland Park', start_station_id=84, end_date=datetime.datetime(2014, 4, 10, 9, 16), end_station_name='Japantown', end_station_id='9', bike_id=23, subscription_type='Subscriber', zip_code='95110')),\n",
              " ('Stanford in Redwood City',\n",
              "  Trip(trip_id=437188, duration=443, start_date=datetime.datetime(2014, 9, 3, 19, 41), start_station_name='Stanford in Redwood City', start_station_id=25, end_date=datetime.datetime(2014, 9, 3, 19, 48), end_station_name='Redwood City Caltrain Station', end_station_id='22', bike_id=103, subscription_type='Customer', zip_code='98110')),\n",
              " ('San Jose City Hall',\n",
              "  Trip(trip_id=4160, duration=1271, start_date=datetime.datetime(2013, 8, 29, 10, 42), start_station_name='San Jose City Hall', start_station_id=10, end_date=datetime.datetime(2013, 8, 29, 11, 3), end_station_name='San Jose City Hall', end_station_id='10', bike_id=680, subscription_type='Subscriber', zip_code='95112')),\n",
              " ('San Salvador at 1st',\n",
              "  Trip(trip_id=4517, duration=379, start_date=datetime.datetime(2013, 8, 29, 13, 34), start_station_name='San Salvador at 1st', start_station_id=8, end_date=datetime.datetime(2013, 8, 29, 13, 41), end_station_name='San Jose City Hall', end_station_id='10', bike_id=661, subscription_type='Subscriber', zip_code='95112')),\n",
              " ('Spear at Folsom',\n",
              "  Trip(trip_id=4166, duration=7138, start_date=datetime.datetime(2013, 8, 29, 10, 49), start_station_name='Spear at Folsom', start_station_id=49, end_date=datetime.datetime(2013, 8, 29, 12, 48), end_station_name='Spear at Folsom', end_station_id='49', bike_id=558, subscription_type='Customer', zip_code='94105')),\n",
              " ('San Pedro Square',\n",
              "  Trip(trip_id=4498, duration=126, start_date=datetime.datetime(2013, 8, 29, 13, 23), start_station_name='San Pedro Square', start_station_id=6, end_date=datetime.datetime(2013, 8, 29, 13, 25), end_station_name='Santa Clara at Almaden', end_station_id='4', bike_id=26, subscription_type='Subscriber', zip_code='95112')),\n",
              " ('Mountain View Caltrain Station',\n",
              "  Trip(trip_id=4505, duration=97713, start_date=datetime.datetime(2013, 8, 29, 13, 30), start_station_name='Mountain View Caltrain Station', start_station_id=28, end_date=datetime.datetime(2013, 8, 30, 16, 38), end_station_name='Mountain View City Hall', end_station_id='27', bike_id=141, subscription_type='Subscriber', zip_code='94039')),\n",
              " ('Post at Kearney',\n",
              "  Trip(trip_id=4279, duration=1105, start_date=datetime.datetime(2013, 8, 29, 11, 53), start_station_name='Post at Kearney', start_station_id=47, end_date=datetime.datetime(2013, 8, 29, 12, 12), end_station_name='Post at Kearney', end_station_id='47', bike_id=602, subscription_type='Subscriber', zip_code='94114')),\n",
              " ('Steuart at Market',\n",
              "  Trip(trip_id=4289, duration=970, start_date=datetime.datetime(2013, 8, 29, 11, 58), start_station_name='Steuart at Market', start_station_id=74, end_date=datetime.datetime(2013, 8, 29, 12, 14), end_station_name='Steuart at Market', end_station_id='74', bike_id=570, subscription_type='Subscriber', zip_code='94109')),\n",
              " ('Beale at Market',\n",
              "  Trip(trip_id=4168, duration=161, start_date=datetime.datetime(2013, 8, 29, 10, 56), start_station_name='Beale at Market', start_station_id=56, end_date=datetime.datetime(2013, 8, 29, 10, 59), end_station_name='Steuart at Market', end_station_id='74', bike_id=414, subscription_type='Customer', zip_code='94117')),\n",
              " ('Temporary Transbay Terminal (Howard at Beale)',\n",
              "  Trip(trip_id=4313, duration=5709, start_date=datetime.datetime(2013, 8, 29, 12, 6), start_station_name='Temporary Transbay Terminal (Howard at Beale)', start_station_id=55, end_date=datetime.datetime(2013, 8, 29, 13, 41), end_station_name='Temporary Transbay Terminal (Howard at Beale)', end_station_id='55', bike_id=352, subscription_type='Customer', zip_code='')),\n",
              " ('San Jose Civic Center',\n",
              "  Trip(trip_id=4510, duration=166, start_date=datetime.datetime(2013, 8, 29, 13, 31), start_station_name='San Jose Civic Center', start_station_id=3, end_date=datetime.datetime(2013, 8, 29, 13, 34), end_station_name='San Salvador at 1st', end_station_id='8', bike_id=661, subscription_type='Subscriber', zip_code='95112')),\n",
              " ('2nd at Folsom',\n",
              "  Trip(trip_id=4390, duration=825, start_date=datetime.datetime(2013, 8, 29, 12, 33), start_station_name='2nd at Folsom', start_station_id=62, end_date=datetime.datetime(2013, 8, 29, 12, 47), end_station_name='2nd at South Park', end_station_id='64', bike_id=331, subscription_type='Subscriber', zip_code='94518')),\n",
              " ('Yerba Buena Center of the Arts (3rd @ Howard)',\n",
              "  Trip(trip_id=4355, duration=2044, start_date=datetime.datetime(2013, 8, 29, 12, 18), start_station_name='Yerba Buena Center of the Arts (3rd @ Howard)', start_station_id=68, end_date=datetime.datetime(2013, 8, 29, 12, 52), end_station_name='Yerba Buena Center of the Arts (3rd @ Howard)', end_station_id='68', bike_id=548, subscription_type='Customer', zip_code='94105')),\n",
              " ('Grant Avenue at Columbus Avenue',\n",
              "  Trip(trip_id=4123, duration=500, start_date=datetime.datetime(2013, 8, 29, 10, 14), start_station_name='Grant Avenue at Columbus Avenue', start_station_id=73, end_date=datetime.datetime(2013, 8, 29, 10, 22), end_station_name='Clay at Battery', end_station_id='41', bike_id=503, subscription_type='Subscriber', zip_code='94115')),\n",
              " ('Embarcadero at Vallejo',\n",
              "  Trip(trip_id=4190, duration=18240, start_date=datetime.datetime(2013, 8, 29, 11, 4), start_station_name='Embarcadero at Vallejo', start_station_id=48, end_date=datetime.datetime(2013, 8, 29, 16, 8), end_station_name='Market at Sansome', end_station_id='77', bike_id=614, subscription_type='Customer', zip_code='72150')),\n",
              " ('Mechanics Plaza (Market at Battery)',\n",
              "  Trip(trip_id=4125, duration=464, start_date=datetime.datetime(2013, 8, 29, 10, 14), start_station_name='Mechanics Plaza (Market at Battery)', start_station_id=75, end_date=datetime.datetime(2013, 8, 29, 10, 22), end_station_name='Powell at Post (Union Square)', end_station_id='71', bike_id=528, subscription_type='Subscriber', zip_code='94110')),\n",
              " ('Townsend at 7th',\n",
              "  Trip(trip_id=4315, duration=1432, start_date=datetime.datetime(2013, 8, 29, 12, 7), start_station_name='Townsend at 7th', start_station_id=65, end_date=datetime.datetime(2013, 8, 29, 12, 31), end_station_name='5th at Howard', end_station_id='57', bike_id=538, subscription_type='Customer', zip_code='37206')),\n",
              " ('Evelyn Park and Ride',\n",
              "  Trip(trip_id=4743, duration=267, start_date=datetime.datetime(2013, 8, 29, 16, 51), start_station_name='Evelyn Park and Ride', start_station_id=30, end_date=datetime.datetime(2013, 8, 29, 16, 55), end_station_name='Mountain View Caltrain Station', end_station_id='28', bike_id=54, subscription_type='Customer', zip_code='94107')),\n",
              " ('Davis at Jackson',\n",
              "  Trip(trip_id=4302, duration=2138, start_date=datetime.datetime(2013, 8, 29, 11, 58), start_station_name='Davis at Jackson', start_station_id=42, end_date=datetime.datetime(2013, 8, 29, 12, 33), end_station_name='Market at 4th', end_station_id='76', bike_id=615, subscription_type='Subscriber', zip_code='94129')),\n",
              " ('Palo Alto Caltrain Station',\n",
              "  Trip(trip_id=4373, duration=1083, start_date=datetime.datetime(2013, 8, 29, 12, 22), start_station_name='Palo Alto Caltrain Station', start_station_id=34, end_date=datetime.datetime(2013, 8, 29, 12, 40), end_station_name='University and Emerson', end_station_id='35', bike_id=83, subscription_type='Subscriber', zip_code='94117')),\n",
              " ('San Mateo County Center',\n",
              "  Trip(trip_id=4766, duration=315, start_date=datetime.datetime(2013, 8, 29, 17, 5), start_station_name='San Mateo County Center', start_station_id=23, end_date=datetime.datetime(2013, 8, 29, 17, 10), end_station_name='San Mateo County Center', end_station_id='23', bike_id=227, subscription_type='Subscriber', zip_code='94402')),\n",
              " ('Howard at 2nd',\n",
              "  Trip(trip_id=4525, duration=650, start_date=datetime.datetime(2013, 8, 29, 13, 39), start_station_name='Howard at 2nd', start_station_id=63, end_date=datetime.datetime(2013, 8, 29, 13, 50), end_station_name='San Francisco Caltrain (Townsend at 4th)', end_station_id='70', bike_id=359, subscription_type='Subscriber', zip_code='94401')),\n",
              " ('Paseo de San Antonio',\n",
              "  Trip(trip_id=4528, duration=12280, start_date=datetime.datetime(2013, 8, 29, 13, 39), start_station_name='Paseo de San Antonio', start_station_id=7, end_date=datetime.datetime(2013, 8, 29, 17, 4), end_station_name='Adobe on Almaden', end_station_id='5', bike_id=645, subscription_type='Subscriber', zip_code='94536')),\n",
              " ('Redwood City Public Library',\n",
              "  Trip(trip_id=5590, duration=449, start_date=datetime.datetime(2013, 8, 30, 13, 0), start_station_name='Redwood City Public Library', start_station_id=24, end_date=datetime.datetime(2013, 8, 30, 13, 7), end_station_name='San Mateo County Center', end_station_id='23', bike_id=233, subscription_type='Subscriber', zip_code='94402')),\n",
              " ('SJSU - San Salvador at 9th',\n",
              "  Trip(trip_id=6210, duration=608, start_date=datetime.datetime(2013, 8, 30, 17, 15), start_station_name='SJSU - San Salvador at 9th', start_station_id=16, end_date=datetime.datetime(2013, 8, 30, 17, 26), end_station_name='San Salvador at 1st', end_station_id='8', bike_id=12, subscription_type='Customer', zip_code='95112')),\n",
              " ('San Jose Government Center',\n",
              "  Trip(trip_id=140847, duration=413, start_date=datetime.datetime(2014, 1, 2, 17, 19), start_station_name='San Jose Government Center', start_station_id=80, end_date=datetime.datetime(2014, 1, 2, 17, 25), end_station_name='Japantown', end_station_id='9', bike_id=709, subscription_type='Subscriber', zip_code='95112')),\n",
              " ('Broadway St at Battery St',\n",
              "  Trip(trip_id=161546, duration=289, start_date=datetime.datetime(2014, 1, 22, 9, 1), start_station_name='Broadway St at Battery St', start_station_id=82, end_date=datetime.datetime(2014, 1, 22, 9, 6), end_station_name='Market at Sansome', end_station_id='77', bike_id=374, subscription_type='Subscriber', zip_code='94597')),\n",
              " ('Post at Kearny',\n",
              "  Trip(trip_id=198954, duration=737, start_date=datetime.datetime(2014, 3, 1, 12, 34), start_station_name='Post at Kearny', start_station_id=47, end_date=datetime.datetime(2014, 3, 1, 12, 47), end_station_name='Townsend at 7th', end_station_id='65', bike_id=479, subscription_type='Subscriber', zip_code='94108')),\n",
              " ('Santa Clara County Civic Center',\n",
              "  Trip(trip_id=206440, duration=169308, start_date=datetime.datetime(2014, 3, 8, 13, 49), start_station_name='Santa Clara County Civic Center', start_station_id=80, end_date=datetime.datetime(2014, 3, 10, 13, 51), end_station_name='California Ave Caltrain Station', end_station_id='36', bike_id=242, subscription_type='Customer', zip_code='95035'))]"
            ]
          },
          "metadata": {},
          "execution_count": 27
        }
      ]
    },
    {
      "cell_type": "markdown",
      "source": [
        "# 6) Задание на лабораторную работу"
      ],
      "metadata": {
        "id": "kkiNHp-HVseQ"
      }
    },
    {
      "cell_type": "markdown",
      "source": [
        "1) Найти велосипед с максимальным временем пробега.\n",
        "\n",
        "2) Найти наибольшее геодезическое расстояние между станциями.\n",
        "\n",
        "3) Найти путь велосипеда с максимальным временем пробега через станции.\n",
        "\n",
        "4) Найти количество велосипедов в системе.\n",
        "\n",
        "5) Найти пользователей потративших на поездки более 3 часов."
      ],
      "metadata": {
        "id": "FwGwhHkc9yuM"
      }
    },
    {
      "cell_type": "markdown",
      "source": [
        "## 1) Найти велосипед с максимальным временем пробега"
      ],
      "metadata": {
        "id": "iVg94gIP-OGY"
      }
    },
    {
      "cell_type": "code",
      "source": [
        "bike_max_mileage = trips_.keyBy(lambda x: x.bike_id)\n",
        "#keyBy - создает кортежи элементов в этом RDD, применяя x"
      ],
      "metadata": {
        "id": "GgNolCI164ln"
      },
      "execution_count": 28,
      "outputs": []
    },
    {
      "cell_type": "code",
      "source": [
        "bike_duration = bike_max_mileage.mapValues(lambda x: x.duration).reduceByKey(lambda x1, x2: x1 + x2)\n",
        "#mapValues - передаёт каждое значение в паре ключ-значение RDD через map функцию, не меняя ключи; при этом также сохраняется исходное разделение RDD.\n",
        "#reduceByKey - объединяет значения для каждого ключа, используя ассоциативную и коммутативную функцию сокращения.\n",
        "##также будет выполнять слияние локально на каждом преобразователе перед отправкой результатов в редуктор, аналогично «объединителю» в MapReduce.\n",
        "##вывод будет разделен с помощью разделов numPartitions или уровня параллелизма по умолчанию. Разделитель по умолчанию — хеш-раздел."
      ],
      "metadata": {
        "id": "bEQwKUc264nV"
      },
      "execution_count": 29,
      "outputs": []
    },
    {
      "cell_type": "code",
      "source": [
        "bike_duration_top = bike_duration.top(1, key=lambda x: x[1])[0][0]\n",
        "#Получение 1 верхнего элемента из RDD"
      ],
      "metadata": {
        "id": "9ND_EpNw64qi"
      },
      "execution_count": 30,
      "outputs": []
    },
    {
      "cell_type": "code",
      "source": [
        "print(f\"Идентификатор велосипеда с максимальным временем пробега = {bike_duration_top}\")"
      ],
      "metadata": {
        "colab": {
          "base_uri": "https://localhost:8080/"
        },
        "id": "Uxtav_hMxOEP",
        "outputId": "3a0019c5-8d2b-44f2-818e-09e464edc0fe"
      },
      "execution_count": 31,
      "outputs": [
        {
          "output_type": "stream",
          "name": "stdout",
          "text": [
            "Идентификатор велосипеда с максимальным временем пробега = 535\n"
          ]
        }
      ]
    },
    {
      "cell_type": "markdown",
      "source": [
        "## 2) Найти наибольшее геодезическое расстояние между станциями"
      ],
      "metadata": {
        "id": "HWKsrj6tV66a"
      }
    },
    {
      "cell_type": "code",
      "source": [
        "\n",
        "def distance_between_stations(latitude1, longitude1, latitude2, longitude2):\n",
        "  earth_radius = 6371.0088\n",
        "  latitude1, longitude1 = radians(latitude1), radians(longitude1)\n",
        "  latitude2, longitude2 = radians(latitude2), radians(longitude2)\n",
        "\n",
        "  difference_latitude = latitude2 - latitude1\n",
        "  difference_longitude = longitude2 - longitude1\n",
        "\n",
        "  haversinus_latitude = (sin(difference_latitude / 2)) ** 2\n",
        "  haversinus_longitude = (sin(difference_longitude / 2)) ** 2\n",
        "\n",
        "  return 2 * earth_radius * sqrt(haversinus_latitude + cos(latitude1)\\\n",
        "                                 * cos(latitude2) * haversinus_longitude)"
      ],
      "metadata": {
        "id": "qAFBBJ_dVzsj"
      },
      "execution_count": 32,
      "outputs": []
    },
    {
      "cell_type": "code",
      "source": [
        "distance = stations_.cartesian(stations_)\\\n",
        "                         .filter(lambda x: x[0].station_id != x[1].station_id)\\\n",
        "                         .map(lambda x: [x[0], x[1], distance_between_stations(x[0].lat, x[0].long, x[1].lat, x[1].long)])\\\n",
        "                         .keyBy(lambda x: (x[0].name, x[1].name))\\\n",
        "                         .reduce(lambda x1, x2: x1 if x1[1] > x2[1] else x2)\n",
        "\n",
        "#cartesian - возвращает декартово произведение этого RDD и еще одного, то есть RDD всех пар элементов (a, b), где a находится в self, а b находится в other.\n",
        "#filter - возвращает новый RDD, содержащий только элементы, удовлетворяющие предикату.\n",
        "#map - возвращает новый RDD, применив функцию к каждому элементу этого RDD.\n",
        "#keyBy - создает кортежи элементов в этом RDD, применяя x\n",
        "#reduce - кумулятивно применяет функцию к элементам итерируемой iterable последовательности, сводя её к единственному значению."
      ],
      "metadata": {
        "id": "HxaJB692V8Ad"
      },
      "execution_count": 33,
      "outputs": []
    },
    {
      "cell_type": "code",
      "source": [
        "print(f\"Максимальное расстояние между станциями {distance[0]} = {distance[1][2]}\")"
      ],
      "metadata": {
        "colab": {
          "base_uri": "https://localhost:8080/"
        },
        "id": "mSX-T0LQV8K5",
        "outputId": "a2f01e74-4deb-4178-a27f-7f4ef5fb6de2"
      },
      "execution_count": 34,
      "outputs": [
        {
          "output_type": "stream",
          "name": "stdout",
          "text": [
            "Максимальное расстояние между станциями ('Ryland Park', 'Mezes Park') = 34.317914350160784\n"
          ]
        }
      ]
    },
    {
      "cell_type": "markdown",
      "source": [
        "## 3) Найти путь велосипеда с максимальным временем пробега через станции"
      ],
      "metadata": {
        "id": "Qu1BFuzO-jrT"
      }
    },
    {
      "cell_type": "code",
      "source": [
        "bike_path = trips_.filter(lambda x: x.bike_id == bike_duration_top)\\\n",
        ".sortBy(lambda x: x.start_date).map(lambda x: (x.start_station_name, x.end_station_name))\n",
        "#filter - возвращает новый RDD, содержащий только элементы, удовлетворяющие предикату. (идентификатор велосипеда = инденфикатору велосипеда с максимальным временем пробега)\n",
        "#map - возвращает новый RDD, применив функцию к каждому элементу этого RDD."
      ],
      "metadata": {
        "id": "1_havVvcWD0p"
      },
      "execution_count": 35,
      "outputs": []
    },
    {
      "cell_type": "code",
      "source": [
        "print(f\"Путь велосипеда с максимальным временем пробега через станции: {bike_path.first()}\")"
      ],
      "metadata": {
        "colab": {
          "base_uri": "https://localhost:8080/"
        },
        "id": "TyexC8nx01Oj",
        "outputId": "1af87bae-bb71-4a0d-90cf-5cf6d0754344"
      },
      "execution_count": 36,
      "outputs": [
        {
          "output_type": "stream",
          "name": "stdout",
          "text": [
            "Путь велосипеда с максимальным временем пробега через станции: ('Post at Kearney', 'San Francisco Caltrain (Townsend at 4th)')\n"
          ]
        }
      ]
    },
    {
      "cell_type": "markdown",
      "source": [
        "## 4) Найти количество велосипедов в системе"
      ],
      "metadata": {
        "id": "29oYoQNxWJqC"
      }
    },
    {
      "cell_type": "code",
      "source": [
        "count_bikes = trips_.map(lambda x: x.bike_id).distinct().count()\n",
        "#map - возвращает новый RDD, применив функцию к каждому элементу этого RDD.\n",
        "#distinct - возвращает новый RDD, содержащий отдельные элементы в этом RDD.\n",
        "#count - возвращает количество элементов в этом RDD."
      ],
      "metadata": {
        "id": "d8-iMObkWKE2"
      },
      "execution_count": 37,
      "outputs": []
    },
    {
      "cell_type": "code",
      "source": [
        "print(f\"Количество велосипедов в системе = {count_bikes}\")"
      ],
      "metadata": {
        "colab": {
          "base_uri": "https://localhost:8080/"
        },
        "id": "r8Y4SlQf13Sq",
        "outputId": "c01729d1-36c3-40ba-c7c9-c5ce45cf51fd"
      },
      "execution_count": 38,
      "outputs": [
        {
          "output_type": "stream",
          "name": "stdout",
          "text": [
            "Количество велосипедов в системе = 700\n"
          ]
        }
      ]
    },
    {
      "cell_type": "markdown",
      "source": [],
      "metadata": {
        "id": "tgdrfrz5_HuT"
      }
    },
    {
      "cell_type": "markdown",
      "source": [
        "## 5) Найти пользователей потративших на поездки более 3 часов."
      ],
      "metadata": {
        "id": "YXy97qQw_HyQ"
      }
    },
    {
      "cell_type": "code",
      "source": [
        "users = trips_.filter(lambda x: x.duration > (3 * 60 * 60))\\\n",
        ".map(lambda x: x.zip_code).filter(lambda x: x != \"\").distinct()\n",
        "#filter - возвращает новый RDD, содержащий только элементы, удовлетворяющие предикату. (длительность заезда > 3 часов)\n",
        "#map - возвращает новый RDD, применив функцию к каждому элементу этого RDD.\n",
        "#distinct - возвращает новый RDD, содержащий отдельные элементы в этом RDD."
      ],
      "metadata": {
        "id": "Aer0mou1WQO5"
      },
      "execution_count": 39,
      "outputs": []
    },
    {
      "cell_type": "code",
      "source": [
        "print(f\"Пользователи, потратившие на поездки более 3 часов: {users.take(10)}\")\n",
        "#take - возвращает первые 10 элементов"
      ],
      "metadata": {
        "colab": {
          "base_uri": "https://localhost:8080/"
        },
        "id": "HyjVdlyH4U_o",
        "outputId": "625f6c1f-9139-4a1e-e36d-3daae7fb25ca"
      },
      "execution_count": 40,
      "outputs": [
        {
          "output_type": "stream",
          "name": "stdout",
          "text": [
            "Пользователи, потратившие на поездки более 3 часов: ['58553', '94301', '94039', '94133', '93726', '94123', '4517', '29200', '45322', '94080']\n"
          ]
        }
      ]
    }
  ]
}