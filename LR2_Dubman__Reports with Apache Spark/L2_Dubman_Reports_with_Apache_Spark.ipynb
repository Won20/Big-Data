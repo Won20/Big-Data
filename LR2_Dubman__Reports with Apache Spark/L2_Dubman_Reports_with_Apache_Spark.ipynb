{
  "nbformat": 4,
  "nbformat_minor": 0,
  "metadata": {
    "colab": {
      "provenance": [],
      "authorship_tag": "ABX9TyM2Z0NyJ1/ySATQvJfWWfJN",
      "include_colab_link": true
    },
    "kernelspec": {
      "name": "python3",
      "display_name": "Python 3"
    },
    "language_info": {
      "name": "python"
    }
  },
  "cells": [
    {
      "cell_type": "markdown",
      "metadata": {
        "id": "view-in-github",
        "colab_type": "text"
      },
      "source": [
        "<a href=\"https://colab.research.google.com/github/Won20/Big-Data/blob/main/LR2_Dubman__Reports%20with%20Apache%20Spark/L2_Dubman_Reports_with_Apache_Spark.ipynb\" target=\"_parent\"><img src=\"https://colab.research.google.com/assets/colab-badge.svg\" alt=\"Open In Colab\"/></a>"
      ]
    },
    {
      "cell_type": "markdown",
      "source": [
        "# 1) Устанавливаем pyspark"
      ],
      "metadata": {
        "id": "ZROGF0VdR96D"
      }
    },
    {
      "cell_type": "code",
      "execution_count": 1,
      "metadata": {
        "colab": {
          "base_uri": "https://localhost:8080/"
        },
        "id": "8o3YN2n17hrr",
        "outputId": "dc01fe03-27ca-4c20-a0ff-3767f6db44bf"
      },
      "outputs": [
        {
          "output_type": "stream",
          "name": "stdout",
          "text": [
            "Collecting pyspark\n",
            "  Downloading pyspark-3.5.0.tar.gz (316.9 MB)\n",
            "\u001b[2K     \u001b[90m━━━━━━━━━━━━━━━━━━━━━━━━━━━━━━━━━━━━━━━━\u001b[0m \u001b[32m316.9/316.9 MB\u001b[0m \u001b[31m3.2 MB/s\u001b[0m eta \u001b[36m0:00:00\u001b[0m\n",
            "\u001b[?25h  Preparing metadata (setup.py) ... \u001b[?25l\u001b[?25hdone\n",
            "Requirement already satisfied: py4j==0.10.9.7 in /usr/local/lib/python3.10/dist-packages (from pyspark) (0.10.9.7)\n",
            "Building wheels for collected packages: pyspark\n",
            "  Building wheel for pyspark (setup.py) ... \u001b[?25l\u001b[?25hdone\n",
            "  Created wheel for pyspark: filename=pyspark-3.5.0-py2.py3-none-any.whl size=317425344 sha256=975d2e13f3cc12f252d50e9ca120ba0cefbb5f41dc87865535b471ffda683ad2\n",
            "  Stored in directory: /root/.cache/pip/wheels/41/4e/10/c2cf2467f71c678cfc8a6b9ac9241e5e44a01940da8fbb17fc\n",
            "Successfully built pyspark\n",
            "Installing collected packages: pyspark\n",
            "Successfully installed pyspark-3.5.0\n"
          ]
        }
      ],
      "source": [
        "!pip install pyspark"
      ]
    },
    {
      "cell_type": "markdown",
      "source": [
        "# 2) Импортируем необходимые библиотеки и создаем проект"
      ],
      "metadata": {
        "id": "lAZyOrBQSOW8"
      }
    },
    {
      "cell_type": "code",
      "source": [
        "import pyspark\n",
        "import os\n",
        "\n",
        "from datetime import datetime\n",
        "from pyspark.sql.functions import col\n",
        "from pyspark.sql import SparkSession\n",
        "from pyspark import SparkContext, SparkConf\n",
        "from pyspark.sql.types import StructType, StructField, StringType, DateType"
      ],
      "metadata": {
        "id": "LA2OEkzj8oER"
      },
      "execution_count": 2,
      "outputs": []
    },
    {
      "cell_type": "code",
      "source": [
        "os.environ['PYSPARK_SUBMIT_ARGS'] = '--packages com.databricks:spark-xml_2.12:0.13.0 pyspark-shell' #представляет переменные среды окружения системы Этот пакет можно добавить в Spark с помощью параметра командной строки --packages,\n",
        "# чтобы включить его при запуске оболочки Spark. Этот пакет позволяет читать XML-файлы в локальной или распределенной файловой системе как «Spark DataFrames».\n",
        "sc = SparkSession.builder.appName(\"L2\").master(\"local[*]\").getOrCreate() #Точкой входа во все функции Spark является класс SparkSession. Чтобы создать базовый SparkSession, используют SparkSession.builder."
      ],
      "metadata": {
        "id": "xfhYmjXq8oIp"
      },
      "execution_count": 3,
      "outputs": []
    },
    {
      "cell_type": "code",
      "source": [
        "sc"
      ],
      "metadata": {
        "colab": {
          "base_uri": "https://localhost:8080/",
          "height": 219
        },
        "id": "_STqS6pI8oJn",
        "outputId": "d42153fe-5087-454d-d0ee-87fccb585e30"
      },
      "execution_count": 4,
      "outputs": [
        {
          "output_type": "execute_result",
          "data": {
            "text/plain": [
              "<pyspark.sql.session.SparkSession at 0x7fa318fb4490>"
            ],
            "text/html": [
              "\n",
              "            <div>\n",
              "                <p><b>SparkSession - in-memory</b></p>\n",
              "                \n",
              "        <div>\n",
              "            <p><b>SparkContext</b></p>\n",
              "\n",
              "            <p><a href=\"http://09cdf69fed01:4040\">Spark UI</a></p>\n",
              "\n",
              "            <dl>\n",
              "              <dt>Version</dt>\n",
              "                <dd><code>v3.5.0</code></dd>\n",
              "              <dt>Master</dt>\n",
              "                <dd><code>local[*]</code></dd>\n",
              "              <dt>AppName</dt>\n",
              "                <dd><code>L2</code></dd>\n",
              "            </dl>\n",
              "        </div>\n",
              "        \n",
              "            </div>\n",
              "        "
            ]
          },
          "metadata": {},
          "execution_count": 4
        }
      ]
    },
    {
      "cell_type": "markdown",
      "source": [],
      "metadata": {
        "id": "kLUWpvPXSYfz"
      }
    },
    {
      "cell_type": "markdown",
      "source": [
        "# 3) Загружаем файл с именами языков программирования"
      ],
      "metadata": {
        "id": "gHeIxTnQSYhF"
      }
    },
    {
      "cell_type": "code",
      "source": [
        "languages = sc.read.csv(\"/content/data/programming-languages.csv\")\n",
        "#создание DataFrame на основе содержимого файла"
      ],
      "metadata": {
        "id": "uXYVQmCX8oMz"
      },
      "execution_count": 5,
      "outputs": []
    },
    {
      "cell_type": "code",
      "source": [
        "# Создадим список из имен языков программирования\n",
        "languages_list = [str(x[0]) for x in languages.collect()]\n",
        "#collect -  используется для извлечения всех элементов со всех узлов в узел драйвера"
      ],
      "metadata": {
        "id": "IcCGwkcs85KC"
      },
      "execution_count": 6,
      "outputs": []
    },
    {
      "cell_type": "code",
      "source": [
        "languages_list.pop(0)# удаляет из списка последний элемент и возвращает его значениe"
      ],
      "metadata": {
        "colab": {
          "base_uri": "https://localhost:8080/",
          "height": 36
        },
        "id": "MP_eTb2585M6",
        "outputId": "4564b86a-dbea-4660-c5f2-deaf9be28f06"
      },
      "execution_count": 7,
      "outputs": [
        {
          "output_type": "execute_result",
          "data": {
            "text/plain": [
              "'name'"
            ],
            "application/vnd.google.colaboratory.intrinsic+json": {
              "type": "string"
            }
          },
          "metadata": {},
          "execution_count": 7
        }
      ]
    },
    {
      "cell_type": "code",
      "source": [
        "languages_list[:10] #выводим первые 10  значений 'name' из файла языков"
      ],
      "metadata": {
        "colab": {
          "base_uri": "https://localhost:8080/"
        },
        "id": "6dGxLeok85QD",
        "outputId": "69fb2cc0-72c7-4376-f1e8-6858df81b003"
      },
      "execution_count": 8,
      "outputs": [
        {
          "output_type": "execute_result",
          "data": {
            "text/plain": [
              "['A# .NET',\n",
              " 'A# (Axiom)',\n",
              " 'A-0 System',\n",
              " 'A+',\n",
              " 'A++',\n",
              " 'ABAP',\n",
              " 'ABC',\n",
              " 'ABC ALGOL',\n",
              " 'ABSET',\n",
              " 'ABSYS']"
            ]
          },
          "metadata": {},
          "execution_count": 8
        }
      ]
    },
    {
      "cell_type": "markdown",
      "source": [
        "# 4) Загружаем файл с выборкой данных по использованию языков программирования"
      ],
      "metadata": {
        "id": "tShsS_aQScGc"
      }
    },
    {
      "cell_type": "code",
      "source": [
        "posts_sample = sc.read.format(\"xml\").options(rowTag=\"row\").load('/content/data/posts_sample.xml')#После запуска оболочки Pyspark вместе с указанным пакетом XML получаем доступ к файлу данных XML с помощью API Dataframe"
      ],
      "metadata": {
        "id": "DAX9-NDI8oPq"
      },
      "execution_count": 9,
      "outputs": []
    },
    {
      "cell_type": "code",
      "source": [
        "posts_sample.take(5)\n",
        "#возвращает первые 5 элементов в виде списка строк"
      ],
      "metadata": {
        "colab": {
          "base_uri": "https://localhost:8080/"
        },
        "id": "Qv_9GhYH9Epj",
        "outputId": "33cd86d6-d51a-4ffc-b681-6cbecf198a90"
      },
      "execution_count": 10,
      "outputs": [
        {
          "output_type": "execute_result",
          "data": {
            "text/plain": [
              "[Row(_AcceptedAnswerId=7, _AnswerCount=13, _Body=\"<p>I want to use a track-bar to change a form's opacity.</p>\\n\\n<p>This is my code:</p>\\n\\n<pre><code>decimal trans = trackBar1.Value / 5000;\\nthis.Opacity = trans;\\n</code></pre>\\n\\n<p>When I build the application, it gives the following error:</p>\\n\\n<blockquote>\\n  <p>Cannot implicitly convert type <code>'decimal'</code> to <code>'double'</code></p>\\n</blockquote>\\n\\n<p>I tried using <code>trans</code> and <code>double</code> but then the control doesn't work. This code worked fine in a past VB.NET project.</p>\\n\", _ClosedDate=None, _CommentCount=2, _CommunityOwnedDate=datetime.datetime(2012, 10, 31, 16, 42, 47, 213000), _CreationDate=datetime.datetime(2008, 7, 31, 21, 42, 52, 667000), _FavoriteCount=48, _Id=4, _LastActivityDate=datetime.datetime(2019, 7, 19, 1, 39, 54, 173000), _LastEditDate=datetime.datetime(2019, 7, 19, 1, 39, 54, 173000), _LastEditorDisplayName='Rich B', _LastEditorUserId=3641067, _OwnerDisplayName=None, _OwnerUserId=8, _ParentId=None, _PostTypeId=1, _Score=630, _Tags='<c#><floating-point><type-conversion><double><decimal>', _Title='Convert Decimal to Double?', _ViewCount=42817),\n",
              " Row(_AcceptedAnswerId=31, _AnswerCount=6, _Body=\"<p>I have an absolutely positioned <code>div</code> containing several children, one of which is a relatively positioned <code>div</code>. When I use a <code>percentage-based width</code> on the child <code>div</code>, it collapses to <code>0 width</code> on IE7, but not on Firefox or Safari.</p>\\n\\n<p>If I use <code>pixel width</code>, it works. If the parent is relatively positioned, the percentage width on the child works.</p>\\n\\n<ol>\\n<li>Is there something I'm missing here?</li>\\n<li>Is there an easy fix for this besides the <code>pixel-based width</code> on the\\nchild?</li>\\n<li>Is there an area of the CSS specification that covers this?</li>\\n</ol>\\n\", _ClosedDate=None, _CommentCount=0, _CommunityOwnedDate=None, _CreationDate=datetime.datetime(2008, 7, 31, 22, 8, 8, 620000), _FavoriteCount=10, _Id=6, _LastActivityDate=datetime.datetime(2019, 7, 19, 1, 43, 4, 77000), _LastEditDate=datetime.datetime(2019, 7, 19, 1, 43, 4, 77000), _LastEditorDisplayName='Rich B', _LastEditorUserId=3641067, _OwnerDisplayName=None, _OwnerUserId=9, _ParentId=None, _PostTypeId=1, _Score=281, _Tags='<html><css><internet-explorer-7>', _Title='Percentage width child element in absolutely positioned parent on Internet Explorer 7', _ViewCount=18214),\n",
              " Row(_AcceptedAnswerId=None, _AnswerCount=None, _Body=\"<p>An explicit cast to double like this isn't necessary:</p>\\n\\n<pre><code>double trans = (double) trackBar1.Value / 5000.0;\\n</code></pre>\\n\\n<p>Identifying the constant as <code>5000.0</code> (or as <code>5000d</code>) is sufficient:</p>\\n\\n<pre><code>double trans = trackBar1.Value / 5000.0;\\ndouble trans = trackBar1.Value / 5000d;\\n</code></pre>\\n\", _ClosedDate=None, _CommentCount=0, _CommunityOwnedDate=None, _CreationDate=datetime.datetime(2008, 7, 31, 22, 17, 57, 883000), _FavoriteCount=None, _Id=7, _LastActivityDate=datetime.datetime(2017, 12, 16, 5, 6, 57, 613000), _LastEditDate=datetime.datetime(2017, 12, 16, 5, 6, 57, 613000), _LastEditorDisplayName=None, _LastEditorUserId=4020527, _OwnerDisplayName=None, _OwnerUserId=9, _ParentId=4, _PostTypeId=2, _Score=425, _Tags=None, _Title=None, _ViewCount=None),\n",
              " Row(_AcceptedAnswerId=1404, _AnswerCount=63, _Body=\"<p>Given a <code>DateTime</code> representing a person's birthday, how do I calculate their age in years?  </p>\\n\", _ClosedDate=None, _CommentCount=5, _CommunityOwnedDate=datetime.datetime(2011, 8, 16, 19, 40, 43, 80000), _CreationDate=datetime.datetime(2008, 7, 31, 23, 40, 59, 743000), _FavoriteCount=436, _Id=9, _LastActivityDate=datetime.datetime(2019, 6, 26, 15, 25, 44, 253000), _LastEditDate=datetime.datetime(2018, 4, 21, 17, 48, 14, 477000), _LastEditorDisplayName='Rich B', _LastEditorUserId=3956566, _OwnerDisplayName=None, _OwnerUserId=1, _ParentId=None, _PostTypeId=1, _Score=1742, _Tags='<c#><.net><datetime>', _Title=\"How do I calculate someone's age in C#?\", _ViewCount=555183),\n",
              " Row(_AcceptedAnswerId=1248, _AnswerCount=37, _Body='<p>Given a specific <code>DateTime</code> value, how do I display relative time, like:</p>\\n\\n<ul>\\n<li>2 hours ago</li>\\n<li>3 days ago</li>\\n<li>a month ago</li>\\n</ul>\\n', _ClosedDate=None, _CommentCount=3, _CommunityOwnedDate=datetime.datetime(2009, 9, 4, 13, 15, 59, 820000), _CreationDate=datetime.datetime(2008, 7, 31, 23, 55, 37, 967000), _FavoriteCount=539, _Id=11, _LastActivityDate=datetime.datetime(2019, 5, 26, 2, 31, 53, 863000), _LastEditDate=datetime.datetime(2017, 6, 4, 15, 51, 19, 780000), _LastEditorDisplayName='user2370523', _LastEditorUserId=6479704, _OwnerDisplayName=None, _OwnerUserId=1, _ParentId=None, _PostTypeId=1, _Score=1444, _Tags='<c#><datetime><time><datediff><relative-time-span>', _Title='Calculate relative time in C#', _ViewCount=149445)]"
            ]
          },
          "metadata": {},
          "execution_count": 10
        }
      ]
    },
    {
      "cell_type": "markdown",
      "source": [
        "## 5) Функционал программы необходимый для поиска"
      ],
      "metadata": {
        "id": "G0qmzY3EoAuK"
      }
    },
    {
      "cell_type": "markdown",
      "source": [
        "### 1) Функция для фильтрации по датам"
      ],
      "metadata": {
        "id": "EOCF0_CjD13Q"
      }
    },
    {
      "cell_type": "code",
      "source": [
        "def check_date(x, year):\n",
        "  \"\"\"\n",
        "  Данная функция была написана для фильтрации по датам,\n",
        "  так как нас интересует период с 2010 год по 2020 (не включая) год\n",
        "  \"\"\"\n",
        "  start = datetime(year=year, month=1, day=1)\n",
        "  end = datetime(year=year, month=12, day=31)\n",
        "  CreationDate = x._CreationDate\n",
        "  return CreationDate >= start and CreationDate <= end"
      ],
      "metadata": {
        "id": "nseY5xmwD9UW"
      },
      "execution_count": 11,
      "outputs": []
    },
    {
      "cell_type": "markdown",
      "source": [
        "### 2) Функция перевода текста в нижний регистр и поиска названия языка программирования"
      ],
      "metadata": {
        "id": "slcxsxy_D_4e"
      }
    },
    {
      "cell_type": "code",
      "source": [
        "\n",
        "def language_detection(x):\n",
        "  \"\"\"\n",
        "  Данная функция переводит весь текст в нижний регистр\n",
        "  и ищет название языка программирования в каждой строке,\n",
        "  если язык был найден, то создается кортеж, иначе None\n",
        "  \"\"\"\n",
        "  tag = None\n",
        "  for language in languages_list:\n",
        "    if \"<\" + language.lower() + \">\" in x._Tags.lower():\n",
        "      tag = language\n",
        "      break\n",
        "  if tag is None:\n",
        "    return None\n",
        "  return (x._Id, tag)\n",
        "\n"
      ],
      "metadata": {
        "id": "cObInalm9Eqn"
      },
      "execution_count": 12,
      "outputs": []
    },
    {
      "cell_type": "markdown",
      "source": [
        "### 3) Код для непосредственного поиска"
      ],
      "metadata": {
        "id": "zWp-LWtVEPEF"
      }
    },
    {
      "cell_type": "code",
      "source": [
        "\"\"\"\n",
        "Данный кусок кода сначала убирает пустые значения и оставляет диапазон с 2010 по 2020 (не включая) год,\n",
        "далее мы находим язык программирования в каждой строке и убираем пустые значения, если не был\n",
        "найден, потом смотрим, сколько раз упоминался каждый язык программирования в каждом годе и сортируем по\n",
        "количеству повторений и в конце идет сортировка от большего к меньшему по количеству упоминаний.\n",
        "\"\"\"\n",
        "\n",
        "final_result = {}\n",
        "for year in range(2010, 2020):\n",
        "  final_result[year] = posts_sample.rdd\\\n",
        "      .filter(lambda x: x._Tags is not None and check_date(x, year))\\\n",
        "      .map(language_detection)\\\n",
        "      .filter(lambda x: x is not None)\\\n",
        "      .keyBy(lambda x: x[1])\\\n",
        "      .aggregateByKey(\n",
        "          0,\n",
        "          lambda x, y: x + 1,\n",
        "          lambda x1, x2: x1 + x2,\n",
        "      )\\\n",
        "      .sortBy(lambda x: x[1], ascending=False)\\\n",
        "      .toDF()\n",
        "  final_result[year] = final_result[year].select(col(\"_1\").alias(\"Programming_language\"),\n",
        "                                                 col(\"_2\").alias(f\"Number_of_mentions_in_{year}\")).limit(10)\n",
        "  final_result[year].show()\n",
        "  #rdd - устойчивый распределенный набор данных, базовая абстракция в Spark. Представляет неизменяемую секционированную\n",
        "  ##коллекцию элементов, с которыми можно работать параллельно. Возвращает содержимое в виде pyspark.RDD строки.\n",
        "  #filter - возвращает новый RDD, содержащий только элементы, удовлетворяющие предикату, то есть фильтрует строки, используя заданное условие.\n",
        "  #map - возвращает новый RDD, применив функцию к каждому элементу этого RDD.\n",
        "  #keyBy - создает кортежи элементов в этом RDD, применяя x.\n",
        "  #aggregateByKey - агригирует значения каждого ключа, используя заданные функции объединения и нейтральное «нулевое значение».\n",
        "  ##эта функция может возвращать тип результата U = 0, отличный от типа значений в этом RDD, V.\n",
        "  ##таким образом, нам нужна одна операция для слияния V с U и одна операция для слияния двух U.\n",
        "  ##первая операция используется для объединение значений внутри раздела, а последний используется для объединения значений между разделами.\n",
        "  ##чтобы избежать выделения памяти, обеим этим функциям разрешено изменять и возвращать свой первый аргумент вместо создания нового U.\n",
        "  #sortBy - сортирует этот RDD по заданной ключевой функции.\n",
        "  #toDF - возвращает новый DataFrame\n",
        "  #select - проецирует набор выражений и возвращает новый DataFrame."
      ],
      "metadata": {
        "colab": {
          "base_uri": "https://localhost:8080/"
        },
        "id": "C99HcaP29Esq",
        "outputId": "2adc28ee-dcf1-4695-aeca-895fc379c7ff"
      },
      "execution_count": 13,
      "outputs": [
        {
          "output_type": "stream",
          "name": "stdout",
          "text": [
            "+--------------------+--------------------------+\n",
            "|Programming_language|Number_of_mentions_in_2010|\n",
            "+--------------------+--------------------------+\n",
            "|                Java|                        52|\n",
            "|          JavaScript|                        44|\n",
            "|                 PHP|                        42|\n",
            "|              Python|                        25|\n",
            "|         Objective-C|                        22|\n",
            "|                   C|                        20|\n",
            "|                Ruby|                        11|\n",
            "|              Delphi|                         7|\n",
            "|                   R|                         3|\n",
            "|                Bash|                         3|\n",
            "+--------------------+--------------------------+\n",
            "\n",
            "+--------------------+--------------------------+\n",
            "|Programming_language|Number_of_mentions_in_2011|\n",
            "+--------------------+--------------------------+\n",
            "|                 PHP|                        97|\n",
            "|                Java|                        92|\n",
            "|          JavaScript|                        82|\n",
            "|              Python|                        35|\n",
            "|         Objective-C|                        33|\n",
            "|                   C|                        24|\n",
            "|                Ruby|                        17|\n",
            "|              Delphi|                         8|\n",
            "|                Perl|                         8|\n",
            "|                Bash|                         7|\n",
            "+--------------------+--------------------------+\n",
            "\n",
            "+--------------------+--------------------------+\n",
            "|Programming_language|Number_of_mentions_in_2012|\n",
            "+--------------------+--------------------------+\n",
            "|                 PHP|                       136|\n",
            "|          JavaScript|                       129|\n",
            "|                Java|                       124|\n",
            "|              Python|                        65|\n",
            "|         Objective-C|                        45|\n",
            "|                   C|                        27|\n",
            "|                Ruby|                        25|\n",
            "|                Bash|                         9|\n",
            "|                   R|                         9|\n",
            "|              MATLAB|                         6|\n",
            "+--------------------+--------------------------+\n",
            "\n",
            "+--------------------+--------------------------+\n",
            "|Programming_language|Number_of_mentions_in_2013|\n",
            "+--------------------+--------------------------+\n",
            "|          JavaScript|                       196|\n",
            "|                Java|                       191|\n",
            "|                 PHP|                       173|\n",
            "|              Python|                        87|\n",
            "|         Objective-C|                        40|\n",
            "|                   C|                        36|\n",
            "|                Ruby|                        30|\n",
            "|                   R|                        25|\n",
            "|                Bash|                        11|\n",
            "|               Scala|                        10|\n",
            "+--------------------+--------------------------+\n",
            "\n",
            "+--------------------+--------------------------+\n",
            "|Programming_language|Number_of_mentions_in_2014|\n",
            "+--------------------+--------------------------+\n",
            "|          JavaScript|                       235|\n",
            "|                Java|                       228|\n",
            "|                 PHP|                       154|\n",
            "|              Python|                       103|\n",
            "|                   C|                        52|\n",
            "|         Objective-C|                        49|\n",
            "|                   R|                        28|\n",
            "|                Ruby|                        20|\n",
            "|              MATLAB|                        16|\n",
            "|                Bash|                        13|\n",
            "+--------------------+--------------------------+\n",
            "\n",
            "+--------------------+--------------------------+\n",
            "|Programming_language|Number_of_mentions_in_2015|\n",
            "+--------------------+--------------------------+\n",
            "|          JavaScript|                       270|\n",
            "|                Java|                       208|\n",
            "|                 PHP|                       147|\n",
            "|              Python|                       119|\n",
            "|                   R|                        43|\n",
            "|                   C|                        38|\n",
            "|         Objective-C|                        30|\n",
            "|                Ruby|                        20|\n",
            "|              MATLAB|                        16|\n",
            "|               Scala|                        13|\n",
            "+--------------------+--------------------------+\n",
            "\n",
            "+--------------------+--------------------------+\n",
            "|Programming_language|Number_of_mentions_in_2016|\n",
            "+--------------------+--------------------------+\n",
            "|          JavaScript|                       271|\n",
            "|                Java|                       178|\n",
            "|              Python|                       140|\n",
            "|                 PHP|                       126|\n",
            "|                   R|                        50|\n",
            "|                   C|                        32|\n",
            "|                Ruby|                        21|\n",
            "|                Bash|                        16|\n",
            "|               Scala|                        16|\n",
            "|              MATLAB|                        15|\n",
            "+--------------------+--------------------------+\n",
            "\n",
            "+--------------------+--------------------------+\n",
            "|Programming_language|Number_of_mentions_in_2017|\n",
            "+--------------------+--------------------------+\n",
            "|          JavaScript|                       244|\n",
            "|                Java|                       204|\n",
            "|              Python|                       185|\n",
            "|                 PHP|                       122|\n",
            "|                   R|                        53|\n",
            "|                   C|                        24|\n",
            "|         Objective-C|                        19|\n",
            "|                Ruby|                        16|\n",
            "|          TypeScript|                        14|\n",
            "|          PowerShell|                        14|\n",
            "+--------------------+--------------------------+\n",
            "\n",
            "+--------------------+--------------------------+\n",
            "|Programming_language|Number_of_mentions_in_2018|\n",
            "+--------------------+--------------------------+\n",
            "|              Python|                       214|\n",
            "|          JavaScript|                       194|\n",
            "|                Java|                       145|\n",
            "|                 PHP|                        99|\n",
            "|                   R|                        63|\n",
            "|                   C|                        24|\n",
            "|               Scala|                        22|\n",
            "|          TypeScript|                        21|\n",
            "|          PowerShell|                        13|\n",
            "|                Bash|                        12|\n",
            "+--------------------+--------------------------+\n",
            "\n",
            "+--------------------+--------------------------+\n",
            "|Programming_language|Number_of_mentions_in_2019|\n",
            "+--------------------+--------------------------+\n",
            "|              Python|                       162|\n",
            "|          JavaScript|                       131|\n",
            "|                Java|                        95|\n",
            "|                 PHP|                        59|\n",
            "|                   R|                        36|\n",
            "|                   C|                        14|\n",
            "|                  Go|                         9|\n",
            "|              MATLAB|                         9|\n",
            "|                Dart|                         9|\n",
            "|                Bash|                         8|\n",
            "+--------------------+--------------------------+\n",
            "\n"
          ]
        }
      ]
    },
    {
      "cell_type": "markdown",
      "source": [
        "### 6) Запись результата в файл"
      ],
      "metadata": {
        "id": "ybpjGkrfR8Lt"
      }
    },
    {
      "cell_type": "code",
      "source": [
        "#запись результатов в файл\n",
        "for year in final_result.keys():\n",
        "    final_result[year].write.format(\"parquet\").save(f\"/content/final_result/top_{year}\")"
      ],
      "metadata": {
        "id": "35RcH2_X9UJz"
      },
      "execution_count": 14,
      "outputs": []
    }
  ]
}